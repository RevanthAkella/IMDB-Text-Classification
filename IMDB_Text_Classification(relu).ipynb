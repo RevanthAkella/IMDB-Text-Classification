{
  "nbformat": 4,
  "nbformat_minor": 0,
  "metadata": {
    "colab": {
      "name": "IMDB Text Classification(relu).ipynb",
      "version": "0.3.2",
      "provenance": []
    },
    "kernelspec": {
      "name": "python3",
      "display_name": "Python 3"
    }
  },
  "cells": [
    {
      "metadata": {
        "id": "y4wuYD_5HtaT",
        "colab_type": "code",
        "colab": {
          "base_uri": "https://localhost:8080/",
          "height": 34
        },
        "outputId": "82cc23aa-5191-40fb-fc10-3acfe83f936f"
      },
      "cell_type": "code",
      "source": [
        "from __future__ import absolute_import, division, print_function\n",
        "\n",
        "import tensorflow as tf\n",
        "from tensorflow import keras\n",
        "\n",
        "import numpy as np\n",
        "\n",
        "print(tf.__version__)"
      ],
      "execution_count": 1,
      "outputs": [
        {
          "output_type": "stream",
          "text": [
            "1.13.1\n"
          ],
          "name": "stdout"
        }
      ]
    },
    {
      "metadata": {
        "id": "iuEtPMHIHw9U",
        "colab_type": "code",
        "colab": {
          "base_uri": "https://localhost:8080/",
          "height": 71
        },
        "outputId": "85d3d81b-241b-4b6e-ac93-3c39b5d5a580"
      },
      "cell_type": "code",
      "source": [
        "imdb = keras.datasets.imdb\n",
        "\n",
        "(train_data, train_labels), (test_data, test_labels) = imdb.load_data(num_words=10000)"
      ],
      "execution_count": 2,
      "outputs": [
        {
          "output_type": "stream",
          "text": [
            "Downloading data from https://storage.googleapis.com/tensorflow/tf-keras-datasets/imdb.npz\n",
            "17465344/17464789 [==============================] - 0s 0us/step\n"
          ],
          "name": "stdout"
        }
      ]
    },
    {
      "metadata": {
        "id": "bHiuvqmDHylf",
        "colab_type": "code",
        "colab": {
          "base_uri": "https://localhost:8080/",
          "height": 34
        },
        "outputId": "5386bfab-5322-4bcf-ce4e-fd42aaa38ed7"
      },
      "cell_type": "code",
      "source": [
        "# Data Exploration\n",
        "\n",
        "print(\"Training entries: {}, labels: {}\".format(len(train_data), len(train_labels)))"
      ],
      "execution_count": 3,
      "outputs": [
        {
          "output_type": "stream",
          "text": [
            "Training entries: 25000, labels: 25000\n"
          ],
          "name": "stdout"
        }
      ]
    },
    {
      "metadata": {
        "id": "cNLGn5twH5JP",
        "colab_type": "code",
        "colab": {
          "base_uri": "https://localhost:8080/",
          "height": 54
        },
        "outputId": "fceca914-fda8-4c31-d342-014b4fe125a1"
      },
      "cell_type": "code",
      "source": [
        "print(train_data[0])"
      ],
      "execution_count": 4,
      "outputs": [
        {
          "output_type": "stream",
          "text": [
            "[1, 14, 22, 16, 43, 530, 973, 1622, 1385, 65, 458, 4468, 66, 3941, 4, 173, 36, 256, 5, 25, 100, 43, 838, 112, 50, 670, 2, 9, 35, 480, 284, 5, 150, 4, 172, 112, 167, 2, 336, 385, 39, 4, 172, 4536, 1111, 17, 546, 38, 13, 447, 4, 192, 50, 16, 6, 147, 2025, 19, 14, 22, 4, 1920, 4613, 469, 4, 22, 71, 87, 12, 16, 43, 530, 38, 76, 15, 13, 1247, 4, 22, 17, 515, 17, 12, 16, 626, 18, 2, 5, 62, 386, 12, 8, 316, 8, 106, 5, 4, 2223, 5244, 16, 480, 66, 3785, 33, 4, 130, 12, 16, 38, 619, 5, 25, 124, 51, 36, 135, 48, 25, 1415, 33, 6, 22, 12, 215, 28, 77, 52, 5, 14, 407, 16, 82, 2, 8, 4, 107, 117, 5952, 15, 256, 4, 2, 7, 3766, 5, 723, 36, 71, 43, 530, 476, 26, 400, 317, 46, 7, 4, 2, 1029, 13, 104, 88, 4, 381, 15, 297, 98, 32, 2071, 56, 26, 141, 6, 194, 7486, 18, 4, 226, 22, 21, 134, 476, 26, 480, 5, 144, 30, 5535, 18, 51, 36, 28, 224, 92, 25, 104, 4, 226, 65, 16, 38, 1334, 88, 12, 16, 283, 5, 16, 4472, 113, 103, 32, 15, 16, 5345, 19, 178, 32]\n"
          ],
          "name": "stdout"
        }
      ]
    },
    {
      "metadata": {
        "id": "2nV6xbb6H6ao",
        "colab_type": "code",
        "colab": {
          "base_uri": "https://localhost:8080/",
          "height": 34
        },
        "outputId": "079cd38e-a66f-4de1-9cd8-ac43dc313c27"
      },
      "cell_type": "code",
      "source": [
        "len(train_data[0]), len(train_data[1])"
      ],
      "execution_count": 5,
      "outputs": [
        {
          "output_type": "execute_result",
          "data": {
            "text/plain": [
              "(218, 189)"
            ]
          },
          "metadata": {
            "tags": []
          },
          "execution_count": 5
        }
      ]
    },
    {
      "metadata": {
        "id": "JV9I1eO9H7f_",
        "colab_type": "code",
        "colab": {
          "base_uri": "https://localhost:8080/",
          "height": 71
        },
        "outputId": "b1271211-19cb-4838-8806-e7d9247db30c"
      },
      "cell_type": "code",
      "source": [
        "# Check to see if the integers can be converted to words\n",
        "\n",
        "# A dictionary mapping words to an integer index\n",
        "word_index = imdb.get_word_index()\n",
        "\n",
        "# The first indices are reserved\n",
        "word_index = {k:(v+3) for k,v in word_index.items()} \n",
        "word_index[\"<PAD>\"] = 0\n",
        "word_index[\"<START>\"] = 1\n",
        "word_index[\"<UNK>\"] = 2  # unknown\n",
        "word_index[\"<UNUSED>\"] = 3\n",
        "\n",
        "reverse_word_index = dict([(value, key) for (key, value) in word_index.items()])\n",
        "\n",
        "def decode_review(text):\n",
        "    return ' '.join([reverse_word_index.get(i, '?') for i in text])"
      ],
      "execution_count": 6,
      "outputs": [
        {
          "output_type": "stream",
          "text": [
            "Downloading data from https://storage.googleapis.com/tensorflow/tf-keras-datasets/imdb_word_index.json\n",
            "1646592/1641221 [==============================] - 0s 0us/step\n"
          ],
          "name": "stdout"
        }
      ]
    },
    {
      "metadata": {
        "id": "j9k1KFvrIA6f",
        "colab_type": "code",
        "colab": {
          "base_uri": "https://localhost:8080/",
          "height": 54
        },
        "outputId": "09cd6d6a-0c95-43e0-fe68-f5193cefc4a3"
      },
      "cell_type": "code",
      "source": [
        "decode_review(train_data[0])"
      ],
      "execution_count": 7,
      "outputs": [
        {
          "output_type": "execute_result",
          "data": {
            "text/plain": [
              "\"<START> this film was just brilliant casting location scenery story direction everyone's really suited the part they played and you could just imagine being there robert <UNK> is an amazing actor and now the same being director <UNK> father came from the same scottish island as myself so i loved the fact there was a real connection with this film the witty remarks throughout the film were great it was just brilliant so much that i bought the film as soon as it was released for <UNK> and would recommend it to everyone to watch and the fly fishing was amazing really cried at the end it was so sad and you know what they say if you cry at a film it must have been good and this definitely was also <UNK> to the two little boy's that played the <UNK> of norman and paul they were just brilliant children are often left out of the <UNK> list i think because the stars that play them all grown up are such a big profile for the whole film but these children are amazing and should be praised for what they have done don't you think the whole story was so lovely because it was true and was someone's life after all that was shared with us all\""
            ]
          },
          "metadata": {
            "tags": []
          },
          "execution_count": 7
        }
      ]
    },
    {
      "metadata": {
        "id": "tPJ2MqKHICxH",
        "colab_type": "code",
        "colab": {}
      },
      "cell_type": "code",
      "source": [
        "# Data Preparation: The data needs to be prepared for classification\n",
        "# pad sequences function  allows the data to be of |standardized lengths "
      ],
      "execution_count": 0,
      "outputs": []
    },
    {
      "metadata": {
        "id": "6HtxkBX0IIV_",
        "colab_type": "code",
        "colab": {}
      },
      "cell_type": "code",
      "source": [
        "train_data = keras.preprocessing.sequence.pad_sequences(train_data,\n",
        "                                                        value=word_index[\"<PAD>\"],\n",
        "                                                        padding='post',\n",
        "                                                        maxlen=256)\n",
        "\n",
        "test_data = keras.preprocessing.sequence.pad_sequences(test_data,\n",
        "                                                       value=word_index[\"<PAD>\"],\n",
        "                                                       padding='post',\n",
        "                                                       maxlen=256)"
      ],
      "execution_count": 0,
      "outputs": []
    },
    {
      "metadata": {
        "id": "9NF8DyEHIJxH",
        "colab_type": "code",
        "colab": {
          "base_uri": "https://localhost:8080/",
          "height": 34
        },
        "outputId": "2da08d3e-dc5c-4e6e-bd83-6371a0512fab"
      },
      "cell_type": "code",
      "source": [
        "len(train_data[0]), len(train_data[1])"
      ],
      "execution_count": 13,
      "outputs": [
        {
          "output_type": "execute_result",
          "data": {
            "text/plain": [
              "(256, 256)"
            ]
          },
          "metadata": {
            "tags": []
          },
          "execution_count": 13
        }
      ]
    },
    {
      "metadata": {
        "id": "ybRBuZqeIP0n",
        "colab_type": "code",
        "colab": {
          "base_uri": "https://localhost:8080/",
          "height": 340
        },
        "outputId": "58cfb574-7170-4315-bb66-41640df0c1fb"
      },
      "cell_type": "code",
      "source": [
        "print(train_data[0])"
      ],
      "execution_count": 14,
      "outputs": [
        {
          "output_type": "stream",
          "text": [
            "[   1   14   22   16   43  530  973 1622 1385   65  458 4468   66 3941\n",
            "    4  173   36  256    5   25  100   43  838  112   50  670    2    9\n",
            "   35  480  284    5  150    4  172  112  167    2  336  385   39    4\n",
            "  172 4536 1111   17  546   38   13  447    4  192   50   16    6  147\n",
            " 2025   19   14   22    4 1920 4613  469    4   22   71   87   12   16\n",
            "   43  530   38   76   15   13 1247    4   22   17  515   17   12   16\n",
            "  626   18    2    5   62  386   12    8  316    8  106    5    4 2223\n",
            " 5244   16  480   66 3785   33    4  130   12   16   38  619    5   25\n",
            "  124   51   36  135   48   25 1415   33    6   22   12  215   28   77\n",
            "   52    5   14  407   16   82    2    8    4  107  117 5952   15  256\n",
            "    4    2    7 3766    5  723   36   71   43  530  476   26  400  317\n",
            "   46    7    4    2 1029   13  104   88    4  381   15  297   98   32\n",
            " 2071   56   26  141    6  194 7486   18    4  226   22   21  134  476\n",
            "   26  480    5  144   30 5535   18   51   36   28  224   92   25  104\n",
            "    4  226   65   16   38 1334   88   12   16  283    5   16 4472  113\n",
            "  103   32   15   16 5345   19  178   32    0    0    0    0    0    0\n",
            "    0    0    0    0    0    0    0    0    0    0    0    0    0    0\n",
            "    0    0    0    0    0    0    0    0    0    0    0    0    0    0\n",
            "    0    0    0    0]\n"
          ],
          "name": "stdout"
        }
      ]
    },
    {
      "metadata": {
        "id": "AuYBaRKVIVUH",
        "colab_type": "code",
        "colab": {}
      },
      "cell_type": "code",
      "source": [
        "# Model Building"
      ],
      "execution_count": 0,
      "outputs": []
    },
    {
      "metadata": {
        "id": "P4kZztPUIX3_",
        "colab_type": "code",
        "colab": {
          "base_uri": "https://localhost:8080/",
          "height": 272
        },
        "outputId": "63bc02a3-3d83-49bc-b8a2-5529001b79b5"
      },
      "cell_type": "code",
      "source": [
        "# input shape is the vocabulary count used for the movie reviews (10,000 words)\n",
        "vocab_size = 10000\n",
        "\n",
        "model = keras.Sequential()\n",
        "model.add(keras.layers.Embedding(vocab_size, 8))\n",
        "model.add(keras.layers.GlobalAveragePooling1D())\n",
        "model.add(keras.layers.Dense(16, activation=tf.nn.relu))\n",
        "model.add(keras.layers.Dense(1, activation=tf.nn.sigmoid))\n",
        "\n",
        "model.summary()"
      ],
      "execution_count": 141,
      "outputs": [
        {
          "output_type": "stream",
          "text": [
            "_________________________________________________________________\n",
            "Layer (type)                 Output Shape              Param #   \n",
            "=================================================================\n",
            "embedding_12 (Embedding)     (None, None, 8)           80000     \n",
            "_________________________________________________________________\n",
            "global_average_pooling1d_12  (None, 8)                 0         \n",
            "_________________________________________________________________\n",
            "dense_24 (Dense)             (None, 16)                144       \n",
            "_________________________________________________________________\n",
            "dense_25 (Dense)             (None, 1)                 17        \n",
            "=================================================================\n",
            "Total params: 80,161\n",
            "Trainable params: 80,161\n",
            "Non-trainable params: 0\n",
            "_________________________________________________________________\n"
          ],
          "name": "stdout"
        }
      ]
    },
    {
      "metadata": {
        "id": "7NL6XuO1IZOQ",
        "colab_type": "code",
        "colab": {}
      },
      "cell_type": "code",
      "source": [
        "# the layers are stacked sequentially to build a classifiaer.\n",
        "# first layer is an Embedding lyaer which takes the integer-encoded vocabulary and \n",
        "# looks up the embedding vector for each word-index. These vectors are what the \n",
        "# model learns during training. \n",
        "\n",
        "# the GlobalAveragePooling1D layer returns a fixed length output vectot for \n",
        "# each example by averaging over the sequence dimension. this allows variable length\n",
        "# inputs to be handled simply.\n",
        "\n",
        "# the Dense layer pipes the fixed length vector with 16 hidden units\n",
        "# The last layers is densely connected with a single output node and uses a sigmoid \n",
        "# activation function to get a value between 0 and 1 to represent a probability."
      ],
      "execution_count": 0,
      "outputs": []
    },
    {
      "metadata": {
        "id": "C5skdfF5JTXP",
        "colab_type": "code",
        "colab": {}
      },
      "cell_type": "code",
      "source": [
        "# Hidden units\n",
        "# There are 2 hidden units between the input and output. The number of units is the\n",
        "# dimension of representational space for the layer. \n",
        "# more hidden units and/or more layers allows learning of complex representations.\n",
        "# it can also lead to learning of unwanted patterns and makes it computationally \n",
        "# expensive. This is called overfitting"
      ],
      "execution_count": 0,
      "outputs": []
    },
    {
      "metadata": {
        "id": "eVWKLdLfJ0m4",
        "colab_type": "code",
        "colab": {}
      },
      "cell_type": "code",
      "source": [
        "# loss function and optimizer. \n",
        "# since this is a binary classification task, the output is a probability between\n",
        "# 0 and 1. thu swe use the binary_crossentropy loss function.\n",
        "# mean_squared error can also be used but binary_crossentropy is a better choice\n",
        "# for binary classification problems. \n",
        "# mean_squared_error is good for regression problems\n",
        "\n",
        "model.compile(optimizer='adam', loss = 'binary_crossentropy', metrics=['acc'])"
      ],
      "execution_count": 0,
      "outputs": []
    },
    {
      "metadata": {
        "id": "Zkg1PNhSKmSS",
        "colab_type": "code",
        "colab": {}
      },
      "cell_type": "code",
      "source": [
        "# Creating a validation set\n",
        "# we set aside 10000 examples to check the accuracy on data the model has not seen\n",
        "#before.\n",
        "\n",
        "x_val = train_data[:10000]\n",
        "partial_x_train = train_data[10000:]\n",
        "y_val = train_labels[:10000]\n",
        "partial_y_train = train_labels[10000:]"
      ],
      "execution_count": 0,
      "outputs": []
    },
    {
      "metadata": {
        "id": "gAcPDEF3LCDc",
        "colab_type": "code",
        "colab": {
          "base_uri": "https://localhost:8080/",
          "height": 1414
        },
        "outputId": "a421e8a4-b87f-4770-96f9-13d2cb82b918"
      },
      "cell_type": "code",
      "source": [
        "# Training the model\n",
        "\n",
        "history = model.fit(partial_x_train, partial_y_train, epochs=40, batch_size=512, \n",
        "           validation_data = (x_val, y_val), verbose=1)"
      ],
      "execution_count": 146,
      "outputs": [
        {
          "output_type": "stream",
          "text": [
            "Train on 15000 samples, validate on 10000 samples\n",
            "Epoch 1/40\n",
            "15000/15000 [==============================] - 1s 78us/sample - loss: 0.6927 - acc: 0.5428 - val_loss: 0.6922 - val_acc: 0.5927\n",
            "Epoch 2/40\n",
            "15000/15000 [==============================] - 1s 43us/sample - loss: 0.6910 - acc: 0.6515 - val_loss: 0.6895 - val_acc: 0.7457\n",
            "Epoch 3/40\n",
            "15000/15000 [==============================] - 1s 42us/sample - loss: 0.6867 - acc: 0.7159 - val_loss: 0.6836 - val_acc: 0.7445\n",
            "Epoch 4/40\n",
            "15000/15000 [==============================] - 1s 42us/sample - loss: 0.6777 - acc: 0.7538 - val_loss: 0.6724 - val_acc: 0.7340\n",
            "Epoch 5/40\n",
            "15000/15000 [==============================] - 1s 42us/sample - loss: 0.6624 - acc: 0.7564 - val_loss: 0.6554 - val_acc: 0.7661\n",
            "Epoch 6/40\n",
            "15000/15000 [==============================] - 1s 43us/sample - loss: 0.6401 - acc: 0.7789 - val_loss: 0.6310 - val_acc: 0.7677\n",
            "Epoch 7/40\n",
            "15000/15000 [==============================] - 1s 42us/sample - loss: 0.6104 - acc: 0.7928 - val_loss: 0.6009 - val_acc: 0.7800\n",
            "Epoch 8/40\n",
            "15000/15000 [==============================] - 1s 42us/sample - loss: 0.5750 - acc: 0.8104 - val_loss: 0.5676 - val_acc: 0.7989\n",
            "Epoch 9/40\n",
            "15000/15000 [==============================] - 1s 43us/sample - loss: 0.5371 - acc: 0.8205 - val_loss: 0.5327 - val_acc: 0.8126\n",
            "Epoch 10/40\n",
            "15000/15000 [==============================] - 1s 42us/sample - loss: 0.4986 - acc: 0.8362 - val_loss: 0.4987 - val_acc: 0.8201\n",
            "Epoch 11/40\n",
            "15000/15000 [==============================] - 1s 42us/sample - loss: 0.4619 - acc: 0.8491 - val_loss: 0.4671 - val_acc: 0.8318\n",
            "Epoch 12/40\n",
            "15000/15000 [==============================] - 1s 43us/sample - loss: 0.4281 - acc: 0.8606 - val_loss: 0.4390 - val_acc: 0.8424\n",
            "Epoch 13/40\n",
            "15000/15000 [==============================] - 1s 42us/sample - loss: 0.3981 - acc: 0.8703 - val_loss: 0.4148 - val_acc: 0.8498\n",
            "Epoch 14/40\n",
            "15000/15000 [==============================] - 1s 42us/sample - loss: 0.3718 - acc: 0.8777 - val_loss: 0.3944 - val_acc: 0.8539\n",
            "Epoch 15/40\n",
            "15000/15000 [==============================] - 1s 42us/sample - loss: 0.3491 - acc: 0.8846 - val_loss: 0.3770 - val_acc: 0.8596\n",
            "Epoch 16/40\n",
            "15000/15000 [==============================] - 1s 41us/sample - loss: 0.3294 - acc: 0.8892 - val_loss: 0.3627 - val_acc: 0.8636\n",
            "Epoch 17/40\n",
            "15000/15000 [==============================] - 1s 42us/sample - loss: 0.3119 - acc: 0.8930 - val_loss: 0.3504 - val_acc: 0.8680\n",
            "Epoch 18/40\n",
            "15000/15000 [==============================] - 1s 43us/sample - loss: 0.2965 - acc: 0.8984 - val_loss: 0.3400 - val_acc: 0.8710\n",
            "Epoch 19/40\n",
            "15000/15000 [==============================] - 1s 42us/sample - loss: 0.2827 - acc: 0.9029 - val_loss: 0.3314 - val_acc: 0.8721\n",
            "Epoch 20/40\n",
            "15000/15000 [==============================] - 1s 41us/sample - loss: 0.2702 - acc: 0.9057 - val_loss: 0.3237 - val_acc: 0.8752\n",
            "Epoch 21/40\n",
            "15000/15000 [==============================] - 1s 43us/sample - loss: 0.2591 - acc: 0.9096 - val_loss: 0.3179 - val_acc: 0.8752\n",
            "Epoch 22/40\n",
            "15000/15000 [==============================] - 1s 43us/sample - loss: 0.2485 - acc: 0.9129 - val_loss: 0.3119 - val_acc: 0.8771\n",
            "Epoch 23/40\n",
            "15000/15000 [==============================] - 1s 42us/sample - loss: 0.2389 - acc: 0.9157 - val_loss: 0.3074 - val_acc: 0.8785\n",
            "Epoch 24/40\n",
            "15000/15000 [==============================] - 1s 43us/sample - loss: 0.2300 - acc: 0.9203 - val_loss: 0.3029 - val_acc: 0.8798\n",
            "Epoch 25/40\n",
            "15000/15000 [==============================] - 1s 43us/sample - loss: 0.2214 - acc: 0.9233 - val_loss: 0.2994 - val_acc: 0.8822\n",
            "Epoch 26/40\n",
            "15000/15000 [==============================] - 1s 43us/sample - loss: 0.2134 - acc: 0.9260 - val_loss: 0.2969 - val_acc: 0.8827\n",
            "Epoch 27/40\n",
            "15000/15000 [==============================] - 1s 43us/sample - loss: 0.2058 - acc: 0.9289 - val_loss: 0.2936 - val_acc: 0.8824\n",
            "Epoch 28/40\n",
            "15000/15000 [==============================] - 1s 43us/sample - loss: 0.1985 - acc: 0.9311 - val_loss: 0.2931 - val_acc: 0.8816\n",
            "Epoch 29/40\n",
            "15000/15000 [==============================] - 1s 44us/sample - loss: 0.1923 - acc: 0.9323 - val_loss: 0.2901 - val_acc: 0.8829\n",
            "Epoch 30/40\n",
            "15000/15000 [==============================] - 1s 43us/sample - loss: 0.1846 - acc: 0.9383 - val_loss: 0.2892 - val_acc: 0.8843\n",
            "Epoch 31/40\n",
            "15000/15000 [==============================] - 1s 44us/sample - loss: 0.1783 - acc: 0.9398 - val_loss: 0.2872 - val_acc: 0.8845\n",
            "Epoch 32/40\n",
            "15000/15000 [==============================] - 1s 44us/sample - loss: 0.1727 - acc: 0.9431 - val_loss: 0.2884 - val_acc: 0.8834\n",
            "Epoch 33/40\n",
            "15000/15000 [==============================] - 1s 42us/sample - loss: 0.1673 - acc: 0.9440 - val_loss: 0.2868 - val_acc: 0.8842\n",
            "Epoch 34/40\n",
            "15000/15000 [==============================] - 1s 43us/sample - loss: 0.1610 - acc: 0.9477 - val_loss: 0.2859 - val_acc: 0.8851\n",
            "Epoch 35/40\n",
            "15000/15000 [==============================] - 1s 42us/sample - loss: 0.1561 - acc: 0.9491 - val_loss: 0.2875 - val_acc: 0.8836\n",
            "Epoch 36/40\n",
            "15000/15000 [==============================] - 1s 42us/sample - loss: 0.1509 - acc: 0.9515 - val_loss: 0.2880 - val_acc: 0.8833\n",
            "Epoch 37/40\n",
            "15000/15000 [==============================] - 1s 42us/sample - loss: 0.1463 - acc: 0.9533 - val_loss: 0.2872 - val_acc: 0.8849\n",
            "Epoch 38/40\n",
            "15000/15000 [==============================] - 1s 43us/sample - loss: 0.1411 - acc: 0.9565 - val_loss: 0.2879 - val_acc: 0.8857\n",
            "Epoch 39/40\n",
            "15000/15000 [==============================] - 1s 43us/sample - loss: 0.1369 - acc: 0.9565 - val_loss: 0.2903 - val_acc: 0.8841\n",
            "Epoch 40/40\n",
            "15000/15000 [==============================] - 1s 43us/sample - loss: 0.1328 - acc: 0.9598 - val_loss: 0.2902 - val_acc: 0.8859\n"
          ],
          "name": "stdout"
        }
      ]
    },
    {
      "metadata": {
        "id": "WQJJFk6lLQMc",
        "colab_type": "code",
        "colab": {
          "base_uri": "https://localhost:8080/",
          "height": 34
        },
        "outputId": "d4c778e3-fc1a-48cc-a738-23df97d992cd"
      },
      "cell_type": "code",
      "source": [
        "# Create a graph of accuracy and loss over time\n",
        "\n",
        "history_dict = history.history\n",
        "history_dict.keys()"
      ],
      "execution_count": 147,
      "outputs": [
        {
          "output_type": "execute_result",
          "data": {
            "text/plain": [
              "dict_keys(['loss', 'acc', 'val_loss', 'val_acc'])"
            ]
          },
          "metadata": {
            "tags": []
          },
          "execution_count": 147
        }
      ]
    },
    {
      "metadata": {
        "id": "dA7YZw1LLjOL",
        "colab_type": "code",
        "colab": {
          "base_uri": "https://localhost:8080/",
          "height": 376
        },
        "outputId": "19e3a765-1f3b-469b-e5bc-ce158e69de39"
      },
      "cell_type": "code",
      "source": [
        "import matplotlib.pyplot as plt\n",
        "\n",
        "acc = history_dict['acc']\n",
        "val_acc = history_dict['val_acc']\n",
        "loss = history_dict['loss']\n",
        "val_loss = history_dict['val_loss']\n",
        "\n",
        "epochs = range(1, len(acc) + 1)\n",
        "\n",
        "# \"bo\" is for \"blue dot\"\n",
        "plt.plot(epochs, loss, 'bo', label='Training loss')\n",
        "# b is for \"solid blue line\"\n",
        "plt.plot(epochs, val_loss, 'b', label='Validation loss')\n",
        "plt.title('Training and validation loss')\n",
        "plt.xlabel('Epochs')\n",
        "plt.ylabel('Loss')\n",
        "plt.legend()\n",
        "\n",
        "plt.show()"
      ],
      "execution_count": 148,
      "outputs": [
        {
          "output_type": "display_data",
          "data": {
            "image/png": "[encoded data removed]",
            "text/plain": [
              "<Figure size 576x396 with 1 Axes>"
            ]
          },
          "metadata": {
            "tags": []
          }
        }
      ]
    },
    {
      "metadata": {
        "id": "UoVk6JOoLjkM",
        "colab_type": "code",
        "colab": {
          "base_uri": "https://localhost:8080/",
          "height": 376
        },
        "outputId": "0a239e4e-211c-47e5-f77c-ed47f8aa294a"
      },
      "cell_type": "code",
      "source": [
        "plt.clf()   # clear figure\n",
        "\n",
        "plt.plot(epochs, acc, 'bo', label='Training acc')\n",
        "plt.plot(epochs, val_acc, 'b', label='Validation acc')\n",
        "plt.title('Training and validation accuracy')\n",
        "plt.xlabel('Epochs')\n",
        "plt.ylabel('Accuracy')\n",
        "plt.legend()\n",
        "\n",
        "plt.show()"
      ],
      "execution_count": 149,
      "outputs": [
        {
          "output_type": "display_data",
          "data": {
            "image/png": "[encoded data removed]",
            "text/plain": [
              "<Figure size 576x396 with 1 Axes>"
            ]
          },
          "metadata": {
            "tags": []
          }
        }
      ]
    },
    {
      "metadata": {
        "id": "kRJUr02PLmrE",
        "colab_type": "code",
        "colab": {}
      },
      "cell_type": "code",
      "source": [
        ""
      ],
      "execution_count": 0,
      "outputs": []
    }
  ]
}